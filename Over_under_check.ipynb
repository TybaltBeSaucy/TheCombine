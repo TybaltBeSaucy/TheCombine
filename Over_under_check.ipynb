{
 "cells": [
  {
   "cell_type": "code",
   "execution_count": 1,
   "id": "635a4a6f",
   "metadata": {},
   "outputs": [],
   "source": [
    "import pandas as pd"
   ]
  },
  {
   "cell_type": "code",
   "execution_count": 17,
   "id": "c88889b1",
   "metadata": {},
   "outputs": [
    {
     "name": "stdout",
     "output_type": "stream",
     "text": [
      "Percentage for Arizona Cardinals with 50 in the range [49.0, 51.0): 38.46%\n"
     ]
    }
   ],
   "source": [
    "\n",
    "# Read the CSV file into a DataFrame, specifying the index columns\n",
    "result_home = pd.read_csv('Home_OU.csv', index_col='team_home')\n",
    "\n",
    "# Assuming you have a home team and a single number to check\n",
    "home_team_to_check = 'Arizona Cardinals'\n",
    "your_single_number = 50  # Replace this with your actual number\n",
    "\n",
    "# Convert 'Over_Under_Range' strings to numerical ranges\n",
    "result_home.columns = pd.IntervalIndex.from_arrays(\n",
    "    left=result_home.columns.str.extract(r'(\\d+)', expand=False).astype(float),\n",
    "    right=result_home.columns.str.extract(r',\\s*(\\d+)', expand=False).astype(float),\n",
    "    closed='left'\n",
    ")\n",
    "\n",
    "# Find the range for the single number\n",
    "over_under_range_for_single_number = result_home.columns[result_home.columns.contains(your_single_number)]\n",
    "\n",
    "# Check the percentage for the specified home team and over/under range\n",
    "if not over_under_range_for_single_number.empty:\n",
    "    try:\n",
    "        column_name = over_under_range_for_single_number[0]\n",
    "        percent = result_home.loc[home_team_to_check, column_name]\n",
    "        print(f'Percentage for {home_team_to_check} with {your_single_number} in the range {column_name}: {percent:.2f}%')\n",
    "    except KeyError:\n",
    "        print(f'No data found for {home_team_to_check} with {your_single_number} in the calculated range.')\n",
    "else:\n",
    "    print(f'No range found for {your_single_number}.')\n"
   ]
  },
  {
   "cell_type": "code",
   "execution_count": null,
   "id": "e8d44776",
   "metadata": {},
   "outputs": [],
   "source": []
  }
 ],
 "metadata": {
  "kernelspec": {
   "display_name": "Python 3 (ipykernel)",
   "language": "python",
   "name": "python3"
  },
  "language_info": {
   "codemirror_mode": {
    "name": "ipython",
    "version": 3
   },
   "file_extension": ".py",
   "mimetype": "text/x-python",
   "name": "python",
   "nbconvert_exporter": "python",
   "pygments_lexer": "ipython3",
   "version": "3.11.5"
  }
 },
 "nbformat": 4,
 "nbformat_minor": 5
}
