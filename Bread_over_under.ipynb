{
 "cells": [
  {
   "cell_type": "code",
   "execution_count": 12,
   "id": "fb99434c",
   "metadata": {},
   "outputs": [],
   "source": [
    "import pandas as pd\n",
    "df = pd.read_excel('Final_Bread_Dataset(1).xlsx')\n",
    "df.to_csv('Final_Bread_Dataset(1).xlxs')"
   ]
  },
  {
   "cell_type": "code",
   "execution_count": 22,
   "id": "0ecc4414",
   "metadata": {},
   "outputs": [],
   "source": [
    "df = pd.read_csv('Final_Bread_Dataset(1).xlxs')"
   ]
  },
  {
   "cell_type": "markdown",
   "id": "767d7539",
   "metadata": {},
   "source": [
    "Find how close the over/under actally is"
   ]
  },
  {
   "cell_type": "code",
   "execution_count": 23,
   "id": "54b3bd18",
   "metadata": {},
   "outputs": [
    {
     "name": "stdout",
     "output_type": "stream",
     "text": [
      "42.437441958632334\n"
     ]
    }
   ],
   "source": [
    "#get the average over/under\n",
    "\n",
    "avgOU = df['over_under_line'].mean()\n",
    "\n",
    "print(avgOU)"
   ]
  },
  {
   "cell_type": "code",
   "execution_count": 24,
   "id": "9cb55ef5",
   "metadata": {},
   "outputs": [
    {
     "name": "stdout",
     "output_type": "stream",
     "text": [
      "43.03387505276488\n"
     ]
    }
   ],
   "source": [
    "#gets the average total score\n",
    "avgTotal = df['total_score'].mean()\n",
    "\n",
    "print(avgTotal)\n"
   ]
  },
  {
   "cell_type": "markdown",
   "id": "0437b930",
   "metadata": {},
   "source": [
    "average total score by home teams\n"
   ]
  },
  {
   "cell_type": "code",
   "execution_count": 30,
   "id": "87e349ff",
   "metadata": {},
   "outputs": [
    {
     "name": "stdout",
     "output_type": "stream",
     "text": [
      "['Buffalo Bills' 'Chicago Bears' 'Denver Broncos' 'Green Bay Packers'\n",
      " 'Kansas City Chiefs' 'Minnesota Vikings' 'New England Patriots'\n",
      " 'New Orleans Saints' 'Los Angeles Chargers' 'Seattle Seahawks'\n",
      " 'Arizona Cardinals' 'Tampa Bay Buccaneers' 'Washington Commanders'\n",
      " 'Dallas Cowboys' 'New York Jets' 'Atlanta Falcons' 'Cincinnati Bengals'\n",
      " 'Detroit Lions' 'Tennessee Titans' 'Los Angeles Rams' 'Miami Dolphins'\n",
      " 'New York Giants' 'Pittsburgh Steelers' 'Baltimore Ravens'\n",
      " 'Indianapolis Colts' 'Las Vegas Raiders' 'Philadelphia Eagles'\n",
      " 'San Francisco 49ers' 'Jacksonville Jaguars' 'Carolina Panthers'\n",
      " 'Cleveland Browns' 'Houston Texans']\n"
     ]
    }
   ],
   "source": [
    "print(df['team_home'].unique())"
   ]
  },
  {
   "cell_type": "code",
   "execution_count": 51,
   "id": "aafe23d2",
   "metadata": {},
   "outputs": [],
   "source": [
    "avg_scores = df.groupby('team_home')[['total_score','over_under_line']].mean()"
   ]
  },
  {
   "cell_type": "code",
   "execution_count": 52,
   "id": "eeead04e",
   "metadata": {},
   "outputs": [
    {
     "name": "stdout",
     "output_type": "stream",
     "text": [
      "                       total_score  over_under_line\n",
      "team_home                                          \n",
      "Arizona Cardinals        42.473333        42.086667\n",
      "Atlanta Falcons          45.327815        44.443709\n",
      "Baltimore Ravens         40.941748        40.145631\n",
      "Buffalo Bills            42.479100        41.144695\n",
      "Carolina Panthers        41.637931        42.191810\n",
      "Chicago Bears            40.441558        39.917208\n",
      "Cincinnati Bengals       45.131579        42.509868\n",
      "Cleveland Browns         39.357513        40.730570\n",
      "Dallas Cowboys           44.938907        43.467846\n",
      "Denver Broncos           44.666667        42.880503\n",
      "Detroit Lions            45.412162        43.967905\n",
      "Green Bay Packers        43.993711        43.006289\n",
      "Houston Texans           44.337143        43.922857\n",
      "Indianapolis Colts       43.441935        44.151613\n",
      "Jacksonville Jaguars     41.065217        41.682609\n",
      "Kansas City Chiefs       42.853968        43.126984\n",
      "Las Vegas Raiders        44.366337        42.707921\n",
      "Los Angeles Chargers     43.282895        43.093750\n",
      "Los Angeles Rams         44.635179        44.104235\n",
      "Miami Dolphins           42.023102        41.646865\n",
      "Minnesota Vikings        44.185065        43.633442\n",
      "New England Patriots     43.236196        42.947853\n",
      "New Orleans Saints       45.954545        44.751623\n",
      "New York Giants          41.577922        41.108766\n",
      "New York Jets            41.197987        40.921141\n",
      "Philadelphia Eagles      41.955836        42.066246\n",
      "Pittsburgh Steelers      41.575472        40.517296\n",
      "San Francisco 49ers      43.653251        43.249226\n",
      "Seattle Seahawks         43.032362        42.155340\n",
      "Tampa Bay Buccaneers     41.039604        41.452475\n",
      "Tennessee Titans         43.140984        42.168852\n",
      "Washington Commanders    42.082237        41.824013\n"
     ]
    }
   ],
   "source": [
    "print(avg_scores)"
   ]
  },
  {
   "cell_type": "code",
   "execution_count": 50,
   "id": "6e746354",
   "metadata": {},
   "outputs": [
    {
     "name": "stdout",
     "output_type": "stream",
     "text": [
      "                       total_score  over_under_line  score_diff\n",
      "team_home                                                      \n",
      "Arizona Cardinals        42.473333        42.086667    0.386667\n",
      "Atlanta Falcons          45.327815        44.443709    0.884106\n",
      "Baltimore Ravens         40.941748        40.145631    0.796117\n",
      "Buffalo Bills            42.479100        41.144695    1.334405\n",
      "Carolina Panthers        41.637931        42.191810   -0.553879\n",
      "Chicago Bears            40.441558        39.917208    0.524351\n",
      "Cincinnati Bengals       45.131579        42.509868    2.621711\n",
      "Cleveland Browns         39.357513        40.730570   -1.373057\n",
      "Dallas Cowboys           44.938907        43.467846    1.471061\n",
      "Denver Broncos           44.666667        42.880503    1.786164\n",
      "Detroit Lions            45.412162        43.967905    1.444257\n",
      "Green Bay Packers        43.993711        43.006289    0.987421\n",
      "Houston Texans           44.337143        43.922857    0.414286\n",
      "Indianapolis Colts       43.441935        44.151613   -0.709677\n",
      "Jacksonville Jaguars     41.065217        41.682609   -0.617391\n",
      "Kansas City Chiefs       42.853968        43.126984   -0.273016\n",
      "Las Vegas Raiders        44.366337        42.707921    1.658416\n",
      "Los Angeles Chargers     43.282895        43.093750    0.189145\n",
      "Los Angeles Rams         44.635179        44.104235    0.530945\n",
      "Miami Dolphins           42.023102        41.646865    0.376238\n",
      "Minnesota Vikings        44.185065        43.633442    0.551623\n",
      "New England Patriots     43.236196        42.947853    0.288344\n",
      "New Orleans Saints       45.954545        44.751623    1.202922\n",
      "New York Giants          41.577922        41.108766    0.469156\n",
      "New York Jets            41.197987        40.921141    0.276846\n",
      "Philadelphia Eagles      41.955836        42.066246   -0.110410\n",
      "Pittsburgh Steelers      41.575472        40.517296    1.058176\n",
      "San Francisco 49ers      43.653251        43.249226    0.404025\n",
      "Seattle Seahawks         43.032362        42.155340    0.877023\n",
      "Tampa Bay Buccaneers     41.039604        41.452475   -0.412871\n",
      "Tennessee Titans         43.140984        42.168852    0.972131\n",
      "Washington Commanders    42.082237        41.824013    0.258224\n"
     ]
    }
   ],
   "source": [
    "avg_scores['score_diff'] = avg_scores['total_score'] - avg_scores['over_under_line']\n",
    "\n",
    "print(avg_scores['score_diff'])"
   ]
  },
  {
   "cell_type": "code",
   "execution_count": 49,
   "id": "73ee2bf0",
   "metadata": {},
   "outputs": [],
   "source": [
    "per_of_over = df.groupby('team_home')[['total_score', 'over_under_line']].mean()"
   ]
  },
  {
   "cell_type": "code",
   "execution_count": 55,
   "id": "af496e26",
   "metadata": {},
   "outputs": [],
   "source": [
    "per_of_over['over_per'] = (df[df['total_score']> df['over_under_line']]\n",
    "                          .groupby('team_home')\n",
    "                          .size()/ df.groupby('team_home').size()) *100\n"
   ]
  },
  {
   "cell_type": "code",
   "execution_count": 57,
   "id": "f43ad720",
   "metadata": {},
   "outputs": [
    {
     "name": "stdout",
     "output_type": "stream",
     "text": [
      "total_score        42.982477\n",
      "over_under_line    42.428931\n",
      "over_per           47.859267\n",
      "dtype: float64\n"
     ]
    }
   ],
   "source": [
    "print(per_of_over.mean())"
   ]
  },
  {
   "cell_type": "code",
   "execution_count": 59,
   "id": "3ba33194",
   "metadata": {},
   "outputs": [
    {
     "name": "stdout",
     "output_type": "stream",
     "text": [
      "                       total_score  over_under_line   over_per\n",
      "team_home                                                     \n",
      "Arizona Cardinals        42.473333        42.086667  49.000000\n",
      "Atlanta Falcons          45.327815        44.443709  46.357616\n",
      "Baltimore Ravens         40.941748        40.145631  47.572816\n",
      "Buffalo Bills            42.479100        41.144695  50.482315\n",
      "Carolina Panthers        41.637931        42.191810  44.396552\n",
      "Chicago Bears            40.441558        39.917208  46.428571\n",
      "Cincinnati Bengals       45.131579        42.509868  52.960526\n",
      "Cleveland Browns         39.357513        40.730570  40.932642\n",
      "Dallas Cowboys           44.938907        43.467846  51.125402\n",
      "Denver Broncos           44.666667        42.880503  53.144654\n",
      "Detroit Lions            45.412162        43.967905  52.364865\n",
      "Green Bay Packers        43.993711        43.006289  51.257862\n",
      "Houston Texans           44.337143        43.922857  49.714286\n",
      "Indianapolis Colts       43.441935        44.151613  40.645161\n",
      "Jacksonville Jaguars     41.065217        41.682609  46.521739\n",
      "Kansas City Chiefs       42.853968        43.126984  42.857143\n",
      "Las Vegas Raiders        44.366337        42.707921  51.815182\n",
      "Los Angeles Chargers     43.282895        43.093750  43.750000\n",
      "Los Angeles Rams         44.635179        44.104235  51.140065\n",
      "Miami Dolphins           42.023102        41.646865  43.894389\n",
      "Minnesota Vikings        44.185065        43.633442  50.649351\n",
      "New England Patriots     43.236196        42.947853  49.693252\n",
      "New Orleans Saints       45.954545        44.751623  50.649351\n",
      "New York Giants          41.577922        41.108766  44.480519\n",
      "New York Jets            41.197987        40.921141  47.986577\n",
      "Philadelphia Eagles      41.955836        42.066246  45.110410\n",
      "Pittsburgh Steelers      41.575472        40.517296  49.685535\n",
      "San Francisco 49ers      43.653251        43.249226  49.535604\n",
      "Seattle Seahawks         43.032362        42.155340  48.220065\n",
      "Tampa Bay Buccaneers     41.039604        41.452475  43.564356\n",
      "Tennessee Titans         43.140984        42.168852  49.836066\n",
      "Washington Commanders    42.082237        41.824013  45.723684\n"
     ]
    }
   ],
   "source": [
    "print(per_of_over)"
   ]
  },
  {
   "cell_type": "markdown",
   "id": "8fa7190c",
   "metadata": {},
   "source": [
    "From all this you can see that teams are more likly to hit the under at about a 52/48 so theory one is now done if you add min and max to the code above you can see what teams score the most points but that leads to nothing.\n",
    "\n",
    "for my next idea ill look in ranges so ill find the lowest over/under and add 5 and keep going till i see the max\n",
    "what this will tell me if there is a range to bet on that are better than the others.\n"
   ]
  },
  {
   "cell_type": "code",
   "execution_count": 61,
   "id": "3f90e92b",
   "metadata": {},
   "outputs": [
    {
     "name": "stdout",
     "output_type": "stream",
     "text": [
      "63.5\n",
      "28.0\n"
     ]
    }
   ],
   "source": [
    "print(df['over_under_line'].max())\n",
    "print(df['over_under_line'].min())"
   ]
  },
  {
   "cell_type": "code",
   "execution_count": 62,
   "id": "2e75cb0d",
   "metadata": {},
   "outputs": [],
   "source": [
    "bins = [25,30,35,40,45,50,55,60,65]"
   ]
  },
  {
   "cell_type": "code",
   "execution_count": 66,
   "id": "d6f2e176",
   "metadata": {},
   "outputs": [
    {
     "name": "stdout",
     "output_type": "stream",
     "text": [
      "Over_Under_Range       [25, 30)    [30, 35)   [35, 40)   [40, 45)   [45, 50)  \\\n",
      "team_home                                                                      \n",
      "Arizona Cardinals           0.0   57.142857  50.000000  47.058824  47.826087   \n",
      "Atlanta Falcons             0.0    0.000000  48.780488  48.148148  44.705882   \n",
      "Baltimore Ravens            0.0   50.000000  52.336449  44.660194  42.553191   \n",
      "Buffalo Bills               0.0   70.000000  57.843137  44.186047  43.478261   \n",
      "Carolina Panthers           0.0   50.000000  48.000000  38.095238  47.368421   \n",
      "Chicago Bears             100.0   44.444444  46.551724  50.450450  35.135135   \n",
      "Cincinnati Bengals          0.0   73.333333  56.666667  56.716418  40.963855   \n",
      "Cleveland Browns            0.0   29.411765  44.444444  41.333333  40.000000   \n",
      "Dallas Cowboys              0.0   83.333333  44.736842  55.555556  47.560976   \n",
      "Denver Broncos              0.0   57.142857  59.722222  50.000000  53.246753   \n",
      "Detroit Lions               0.0   75.000000  48.936170  52.066116  55.913978   \n",
      "Green Bay Packers           0.0   57.142857  52.000000  51.968504  48.780488   \n",
      "Houston Texans              0.0    0.000000  54.838710  55.384615  47.692308   \n",
      "Indianapolis Colts          0.0   33.333333  44.262295  36.363636  42.156863   \n",
      "Jacksonville Jaguars        0.0   40.000000  42.666667  55.555556  38.297872   \n",
      "Kansas City Chiefs          0.0   66.666667  57.608696  31.775701  34.482759   \n",
      "Las Vegas Raiders           0.0   60.000000  47.297297  55.371901  50.724638   \n",
      "Los Angeles Chargers        0.0   27.272727  43.835616  45.360825  46.391753   \n",
      "Los Angeles Rams            0.0   50.000000  54.000000  50.735294  54.320988   \n",
      "Miami Dolphins              0.0   33.333333  48.809524  41.221374  48.484848   \n",
      "Minnesota Vikings           0.0  100.000000  61.403509  49.253731  43.750000   \n",
      "New England Patriots      100.0   37.500000  48.101266  52.336449  47.727273   \n",
      "New Orleans Saints          0.0   44.444444  50.793651  44.047619  48.148148   \n",
      "New York Giants             0.0   60.000000  47.058824  40.404040  37.735849   \n",
      "New York Jets               0.0   50.000000  47.115385  50.724638  41.666667   \n",
      "Philadelphia Eagles       100.0   53.333333  45.000000  48.571429  38.666667   \n",
      "Pittsburgh Steelers         0.0   54.838710  54.205607  44.531250  48.717949   \n",
      "San Francisco 49ers         0.0   33.333333  57.446809  47.953216  50.561798   \n",
      "Seattle Seahawks            0.0   45.454545  53.947368  47.333333  43.333333   \n",
      "Tampa Bay Buccaneers        0.0   35.000000  43.333333  47.058824  48.076923   \n",
      "Tennessee Titans            0.0   47.058824  51.470588  51.006711  46.428571   \n",
      "Washington Commanders       0.0   28.571429  56.097561  43.609023  43.750000   \n",
      "\n",
      "Over_Under_Range        [50, 55)    [55, 60)  [60, 65)  \n",
      "team_home                                               \n",
      "Arizona Cardinals      60.000000   66.666667       0.0  \n",
      "Atlanta Falcons        38.709677   50.000000       0.0  \n",
      "Baltimore Ravens       33.333333  100.000000       0.0  \n",
      "Buffalo Bills          50.000000   50.000000       0.0  \n",
      "Carolina Panthers      50.000000   50.000000       0.0  \n",
      "Chicago Bears          42.857143    0.000000       0.0  \n",
      "Cincinnati Bengals     50.000000   50.000000       0.0  \n",
      "Cleveland Browns       33.333333    0.000000       0.0  \n",
      "Dallas Cowboys         55.882353   40.000000       0.0  \n",
      "Denver Broncos         56.250000   33.333333       0.0  \n",
      "Detroit Lions          53.846154    0.000000       0.0  \n",
      "Green Bay Packers      54.545455   40.000000       0.0  \n",
      "Houston Texans         22.222222   33.333333       0.0  \n",
      "Indianapolis Colts     38.235294   62.500000       0.0  \n",
      "Jacksonville Jaguars    0.000000    0.000000       0.0  \n",
      "Kansas City Chiefs     43.243243   45.454545     100.0  \n",
      "Las Vegas Raiders      50.000000   33.333333       0.0  \n",
      "Los Angeles Chargers   36.363636   25.000000       0.0  \n",
      "Los Angeles Rams       37.037037   50.000000     100.0  \n",
      "Miami Dolphins         14.285714    0.000000       0.0  \n",
      "Minnesota Vikings      55.555556  100.000000       0.0  \n",
      "New England Patriots   56.666667   40.000000       0.0  \n",
      "New Orleans Saints     66.666667   46.666667      50.0  \n",
      "New York Giants        50.000000  100.000000       0.0  \n",
      "New York Jets           0.000000    0.000000       0.0  \n",
      "Philadelphia Eagles    38.888889   66.666667       0.0  \n",
      "Pittsburgh Steelers    54.545455   50.000000       0.0  \n",
      "San Francisco 49ers    41.666667    0.000000       0.0  \n",
      "Seattle Seahawks       55.555556   33.333333       0.0  \n",
      "Tampa Bay Buccaneers   31.818182   25.000000       0.0  \n",
      "Tennessee Titans       50.000000    0.000000       0.0  \n",
      "Washington Commanders  27.272727    0.000000       0.0  \n"
     ]
    }
   ],
   "source": [
    "df['Over_Under_Range'] = pd.cut(df['over_under_line'], bins=bins, right=False)\n",
    "\n",
    "# Group by Home_team and Over_Under_Range and calculate the percentage of games that went over\n",
    "result = (df[df['total_score'] > df['over_under_line']]\n",
    "          .groupby(['team_home', 'Over_Under_Range'])\n",
    "          .size() / df.groupby(['team_home', 'Over_Under_Range']).size()).unstack()\n",
    "\n",
    "# Fill NaN values with 0 (for cases where no games went over in a specific range)\n",
    "result = result.fillna(0) * 100\n",
    "\n",
    "# Print the result\n",
    "print(result)"
   ]
  }
 ],
 "metadata": {
  "kernelspec": {
   "display_name": "Python 3 (ipykernel)",
   "language": "python",
   "name": "python3"
  },
  "language_info": {
   "codemirror_mode": {
    "name": "ipython",
    "version": 3
   },
   "file_extension": ".py",
   "mimetype": "text/x-python",
   "name": "python",
   "nbconvert_exporter": "python",
   "pygments_lexer": "ipython3",
   "version": "3.11.5"
  }
 },
 "nbformat": 4,
 "nbformat_minor": 5
}
